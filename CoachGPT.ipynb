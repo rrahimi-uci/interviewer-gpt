{
 "cells": [
  {
   "cell_type": "code",
   "execution_count": 95,
   "id": "d82c240a-240d-4479-98a8-c77832c5f2f9",
   "metadata": {
    "is_executing": true,
    "scrolled": true
   },
   "outputs": [],
   "source": [
    "import openai\n",
    "from dotenv import find_dotenv, load_dotenv\n",
    "from youtube_transcript_api import YouTubeTranscriptApi\n",
    "import streamlit as st\n",
    "from langchain import OpenAI\n",
    "from langchain.docstore.document import Document\n",
    "from langchain.text_splitter import RecursiveCharacterTextSplitter\n",
    "from langchain.chains.summarize import load_summarize_chain\n",
    "import os\n",
    "\n",
    "current_directory = os.getcwd()\n",
    "load_dotenv(current_directory + '/conf.env')\n",
    "\n",
    "OPENAI_API_KEY = os.getenv('OPENAI_API_KEY')"
   ]
  },
  {
   "cell_type": "code",
   "execution_count": 96,
   "id": "75bf96ad-9e50-401c-9f88-7ae1c2a42949",
   "metadata": {},
   "outputs": [],
   "source": [
    "# Download sample video transcript\n",
    "transcript = YouTubeTranscriptApi.get_transcript('CR8Niz9DrWU&t=6s')\n",
    "res = ''\n",
    "for txt in transcript:\n",
    "    res += ' ' + txt['text']\n",
    "\n",
    "with open(current_directory + '/interview_1.txt', 'w', encoding='utf-8') as interview:\n",
    "    interview.write(res)  "
   ]
  },
  {
   "cell_type": "code",
   "execution_count": 97,
   "id": "a3393105-f931-47e6-870d-66940958be4f",
   "metadata": {},
   "outputs": [],
   "source": [
    "def generate_response(txt):\n",
    "    # Instantiate the LLM model\n",
    "    llm = OpenAI(temperature = 0.0, \n",
    "                 openai_api_key = OPENAI_API_KEY)\n",
    "    \n",
    "    # Split text\n",
    "    text_splitter = RecursiveCharacterTextSplitter(\n",
    "    # Set a really small chunk size, just to show.\n",
    "    chunk_size = 4000,\n",
    "    chunk_overlap  = 20,\n",
    "    length_function = len,\n",
    "    add_start_index = True,)\n",
    "    \n",
    "    texts = text_splitter.split_text(txt)\n",
    "    # Create multiple documents\n",
    "    docs = [Document(page_content=t) for t in texts]\n",
    "    # Text summarization\n",
    "    chain = load_summarize_chain(llm, chain_type='map_reduce')\n",
    "    return chain.run(docs)\n",
    "\n",
    "summerized_text = generate_response(res)"
   ]
  },
  {
   "cell_type": "code",
   "execution_count": 116,
   "id": "7e111123",
   "metadata": {},
   "outputs": [],
   "source": [
    "from langchain.prompts import PromptTemplate\n",
    "\n",
    "INTERVIEW_QUESTION_PROMPT = \"\"\" We asked a candidate an interview question of {interview_question}. \n",
    "Here is the sumerized response: {candidate_response} \n",
    "\n",
    "Question : How do you evaluate the candidate's response?\n",
    "\n",
    "Instructions:\n",
    "\n",
    "1) The story should be specific about an industrial project in the domain of \n",
    "   engineering product or marketing.\n",
    "2) The story should be clear and easy to understand.\n",
    "3) The story should be concise and to the point.\n",
    "4) The story should be relevant to the question.\n",
    "\n",
    "Please use the following template for your response :\n",
    "\n",
    "Your general ranking should be only one of these choices:\n",
    "1) weak, \n",
    "2) average, \n",
    "3) strong\n",
    "\n",
    "With the Explanation of your ranking:\"\"\"\n",
    "\n",
    "prompt_template = PromptTemplate(\n",
    "    input_variables =[\"candidate_response\", \"interview_question\"],\n",
    "    template = INTERVIEW_QUESTION_PROMPT\n",
    ")\n",
    "\n",
    "query = prompt_template.format(\n",
    "        candidate_response = summerized_text,\n",
    "        interview_question = \"Tell me about the time that you solved a customer's problem\"\n",
    "    )"
   ]
  },
  {
   "cell_type": "code",
   "execution_count": 117,
   "id": "afe7fc19",
   "metadata": {},
   "outputs": [
    {
     "name": "stdout",
     "output_type": "stream",
     "text": [
      "\n",
      "The candidate's response was strong. They provided a detailed story about a successful project they worked on that was relevant to the question. They also provided tips for Amazon product interviews, which showed their knowledge and experience in the field.\n"
     ]
    }
   ],
   "source": [
    "llm = OpenAI(temperature = 0.0, openai_api_key = OPENAI_API_KEY)\n",
    "print(llm(query))"
   ]
  },
  {
   "cell_type": "code",
   "execution_count": 118,
   "id": "3569f2a7",
   "metadata": {},
   "outputs": [],
   "source": [
    "CUSTOMER_OBSESSION =\"\"\"It emphasizes the importance of putting the customer at the center of everything Amazon does. \n",
    "Here's a more detailed explanation of this principle: \n",
    "\n",
    "Customer-Centric Approach: This means that every decision, product, service, and process is designed with the customer's needs and \n",
    "preferences in mind. Amazon strives to understand its customers deeply, to anticipate their needs, and to exceed their expectations.\n",
    "\n",
    "Long-Term Thinking: Customer Obsession is not just about satisfying customers in the short term. It's about building long-term \n",
    "relationships and trust. It can create lasting loyalty and generate sustainable business growth.\n",
    "\n",
    "Customer Feedback: Actively seeks and listens to customer feedback. Customer reviews, ratings, and comments are not only encouraged but \n",
    "are also used to make improvements and identify areas where the company can do better. Customers' voices are considered valuable \n",
    "sources of insights.\n",
    "\n",
    "Data-Driven Decision-Making: It relies heavily on data and analytics to understand customer behavior and preferences. This data-driven \n",
    "approach helps the company make informed decisions and continuously improve its offerings to better serve customers. Company should use \n",
    "metrics and feedback to measure its success in delivering exceptional customer experiences.\n",
    "\"\"\"\n",
    "\n",
    "OWNERSHIP = \"\"\" it encourages employees to act as if they are the owners of the company and take full responsibility for their work \n",
    "and decisions. This means taking the initiative, being proactive, and seeking out opportunities to make a difference. \n",
    "It also means taking pride in one's work and striving for excellence.Here's a more detailed explanation of this principle:\n",
    "\n",
    "End-to-End Responsibility: Ownership means taking complete ownership of a project or task from start to finish. \n",
    "This includes not only the execution but also the planning, coordination, and follow-through. Employees are expected to \n",
    "see their projects through to completion and ensure they meet their goals and deliver value. This means that ownership \n",
    "includes considering the long-term impact and consequences of decisions, not just short-term gains.\n",
    "\n",
    "Deliver Results: Ownership involves setting high standards for performance and delivering results. It has a strong emphasis on \n",
    "measurable outcomes, and employees are held accountable for achieving their goals. Ownership means not just working hard but also \n",
    "working smart to achieve meaningful results.\n",
    "\"\"\"\n",
    "\n",
    "RANDOM_STORY = \"\"\"Once upon a time, in a small, quiet town nestled between rolling hills and a shimmering lake, there \n",
    "stood a quaint little bookstore called \"The Enchanted Tome.\" Its owner, an elderly woman named Eliza, had a secret known to only a few.\n",
    "\n",
    "The bookstore was a magical place, and its shelves were filled with books that came to life. When a customer opened a book \n",
    "and began to read, they were transported into the world of the story. The characters would come alive, and readers could \n",
    "interact with them as if they were old friends.\n",
    "\n",
    "One sunny morning, a curious young girl named Lily entered the bookstore. She had heard whispers of its enchantment and was \n",
    "eager to see if the rumors were true. With a sense of excitement, she approached the dusty shelves and chose a thick, \n",
    "leather-bound volume titled \"The Adventures of Captain Orion.\"\n",
    "\n",
    "As Lily opened the book, a gust of wind swept her off her feet and into a world of pirate ships and treasure hunts. \n",
    "She found herself on the deck of the pirate ship, face to face with the daring Captain Orion himself. With a mischievous \n",
    "grin, he invited her to join the crew and search for buried treasure on a remote island.\n",
    "\n",
    "Lily's heart raced as she navigated through dangerous waters, encountered mermaids, and outwitted rival pirates. The \n",
    "adventure was more thrilling than anything she had ever imagined. And all the while, the pages of the book seemed to \n",
    "come alive with vivid illustrations that leaped from the page.\n",
    "\n",
    "Days turned into weeks as Lily lived out her pirate dreams. But eventually, it was time to return to the real world. \n",
    "Captain Orion and his crew waved her goodbye, promising that their adventures would live on in the pages of the book.\n",
    "\n",
    "Back in the bookstore, Lily closed the book with a satisfied sigh. She turned to Eliza, who had been watching with a \n",
    "knowing smile.\n",
    "\n",
    "\"It's real,\" Lily exclaimed.\n",
    "\n",
    "Eliza nodded. \"Every book here holds a world of its own. And every reader who dares to open them becomes a part of that world, \n",
    "if only for a little while.\"\n",
    "\n",
    "From that day forward, Lily became a frequent visitor to \"The Enchanted Tome,\" and she discovered countless new adventures \n",
    "within its pages. And so did others who entered the magical bookstore, each finding their own unique journeys in the stories \n",
    "that came to life.\n",
    "\n",
    "\"The Enchanted Tome\" remained a beloved secret in the quiet town, where anyone could escape reality for a while and explore \n",
    "the limitless worlds hidden within the pages of a book.\n",
    "\n",
    "And as long as Eliza tended to her store, the magic of reading would continue to thrive in that enchanting corner of the world.\n",
    "\n",
    "The End.\"\"\""
   ]
  },
  {
   "cell_type": "code",
   "execution_count": 119,
   "id": "ca1a8914",
   "metadata": {},
   "outputs": [
    {
     "name": "stdout",
     "output_type": "stream",
     "text": [
      "\n",
      "The candidate's response was [weak/average/strong] because [provide explanation]. The story was not specific to an industrial project in the domain of engineering product or marketing, and it was not relevant to the question. The story was also not concise and to the point, making it difficult to understand.\n"
     ]
    }
   ],
   "source": [
    "random_query = prompt_template.format(\n",
    "        candidate_response = RANDOM_STORY,\n",
    "        interview_question = \"Tell me about the time that you solved a customer's problem\"\n",
    "    )\n",
    "\n",
    "llm = OpenAI(temperature = 0.0, openai_api_key = OPENAI_API_KEY)\n",
    "print(llm(random_query))"
   ]
  },
  {
   "cell_type": "code",
   "execution_count": 120,
   "id": "6c4fd27d",
   "metadata": {},
   "outputs": [
    {
     "name": "stdout",
     "output_type": "stream",
     "text": [
      "0.776041445156155\n",
      "0.7260945145810024\n",
      "0.7332620459010506\n"
     ]
    }
   ],
   "source": [
    "from langchain.embeddings import OpenAIEmbeddings\n",
    "import numpy as np\n",
    "#Define embedding\n",
    "embedding = OpenAIEmbeddings(client=None)\n",
    "\n",
    "CUSTOMER_OBSESSION_VECTOR = embedding.embed_query(CUSTOMER_OBSESSION)\n",
    "OWNERSHIP_VECTOR = embedding.embed_query(OWNERSHIP)\n",
    "SUMMERIZED_TEXT_VECTOR = embedding.embed_query(summerized_text)\n",
    "RANDOM_STORY_VECTOR = embedding.embed_query(RANDOM_STORY)\n",
    "\n",
    "\n",
    "def inner_vector_product(vector_1, vector_2):\n",
    "    \"\"\"\n",
    "    This function calculates the inner vector product of two vectors.\n",
    "    \"\"\"\n",
    "    import numpy as np\n",
    "    a = np.array(vector_1)\n",
    "    b = np.array(vector_2)\n",
    "\n",
    "    return np.dot(a, b)\n",
    "\n",
    "\n",
    "\n",
    "print(inner_vector_product(SUMMERIZED_TEXT_VECTOR, CUSTOMER_OBSESSION_VECTOR))\n",
    "print(inner_vector_product(SUMMERIZED_TEXT_VECTOR, RANDOM_STORY_VECTOR))\n",
    "print(inner_vector_product(SUMMERIZED_TEXT_VECTOR, OWNERSHIP_VECTOR))\n",
    "\n",
    "\n"
   ]
  }
 ],
 "metadata": {
  "kernelspec": {
   "display_name": "Python 3 (ipykernel)",
   "language": "python",
   "name": "python3"
  },
  "language_info": {
   "codemirror_mode": {
    "name": "ipython",
    "version": 3
   },
   "file_extension": ".py",
   "mimetype": "text/x-python",
   "name": "python",
   "nbconvert_exporter": "python",
   "pygments_lexer": "ipython3",
   "version": "3.11.5"
  }
 },
 "nbformat": 4,
 "nbformat_minor": 5
}
